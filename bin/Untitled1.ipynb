{
 "cells": [
  {
   "cell_type": "code",
   "execution_count": null,
   "metadata": {},
   "outputs": [],
   "source": [
    "#!/bin/bash\n",
    "############################################################################################\n",
    "#\n",
    "#   Bob utilities script bash \n",
    "#\n",
    "#                                                                      The MIT License (MIT)\n",
    "#                                                         Copyright (c) 2019 elizeudesantana\n",
    "#\n",
    "version=\"2019.01\";                                                      # Versão do Programa\n",
    "#\n",
    "scriptFileVersion=\"1.0.0\";                                                # Versão do script\n",
    "#\n",
    "# History:\n",
    "#   1.0.0                                                            Script version inicial.\n",
    "#   2019.01      Dividido em diretorios criação de route e tipando de forma MVC (23/06/2019)\n",
    "#\n",
    "# Dependências:                                                     Nome do arquivo: bob.sh\n",
    "#   function Dependencias()\n",
    "#\n",
    "# * Retorno: n/a\n",
    "# * Data: 25/06/2019\n",
    "#\n",
    "# by: Elizeu de Santana -------------------------------------------------------------------\n"
   ]
  },
  {
   "cell_type": "code",
   "execution_count": null,
   "metadata": {},
   "outputs": [],
   "source": [
    "# -----------------------------------------------------------------------------------------\n",
    "# Prover uma variavel com a pespectiva de localizações do script\n",
    "instalacao=\"/Projetos/bob\";                                          # Diretorio de Instalação apartir de HOME\n",
    "scriptPath_Home=\"${HOME}\";                                           # Diretorio HOME (~)\n",
    "scriptPath_Bob=\"${scriptPath_Home}${instalacao}\";                    # Diretrio de Instalação do Bob\n",
    "scriptPath=\"$( cd \"$( dirname \"${BASH_SOURCE[0]}\" )\" && pwd )\";      # Diretorio de instalação do script "
   ]
  },
  {
   "cell_type": "code",
   "execution_count": null,
   "metadata": {},
   "outputs": [],
   "source": [
    "echo $scriptPath"
   ]
  },
  {
   "cell_type": "code",
   "execution_count": null,
   "metadata": {},
   "outputs": [],
   "source": []
  }
 ],
 "metadata": {
  "kernelspec": {
   "display_name": "Xonsh",
   "language": "xonsh",
   "name": "xonsh"
  }
 },
 "nbformat": 4,
 "nbformat_minor": 2
}
