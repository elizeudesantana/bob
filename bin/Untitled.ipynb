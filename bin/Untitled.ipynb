{
 "cells": [
  {
   "cell_type": "code",
   "execution_count": 1,
   "metadata": {},
   "outputs": [],
   "source": [
    "#!/bin/bash\n",
    "############################################################################################\n",
    "#\n",
    "#   Bob utilities script bash \n",
    "#\n",
    "#                                                                      The MIT License (MIT)\n",
    "#                                                         Copyright (c) 2019 elizeudesantana\n",
    "#\n",
    "version=\"2019.01\";                                                      # Versão do Programa\n",
    "#\n",
    "scriptFileVersion=\"1.0.0\";                                                # Versão do script\n",
    "#\n",
    "# History:\n",
    "#   1.0.0                                                            Script version inicial.\n",
    "#   2019.01      Dividido em diretorios criação de route e tipando de forma MVC (23/06/2019)\n",
    "#\n",
    "# Dependências:                                                     Nome do arquivo: bob.sh\n",
    "#   function Dependencias()\n",
    "#\n",
    "# * Retorno: n/a\n",
    "# * Data: 25/06/2019\n",
    "#\n",
    "# by: Elizeu de Santana -------------------------------------------------------------------\n"
   ]
  },
  {
   "cell_type": "code",
   "execution_count": 2,
   "metadata": {},
   "outputs": [
    {
     "ename": "SyntaxError",
     "evalue": "invalid syntax (<ipython-input-2-c277e74e5c94>, line 6)",
     "output_type": "error",
     "traceback": [
      "\u001b[0;36m  File \u001b[0;32m\"<ipython-input-2-c277e74e5c94>\"\u001b[0;36m, line \u001b[0;32m6\u001b[0m\n\u001b[0;31m    scriptPath=\"$( cd \"$( dirname \"${BASH_SOURCE[0]}\" )\" && pwd )\";      # Diretorio de instalação do script\u001b[0m\n\u001b[0m                       ^\u001b[0m\n\u001b[0;31mSyntaxError\u001b[0m\u001b[0;31m:\u001b[0m invalid syntax\n"
     ]
    }
   ],
   "source": [
    "# -----------------------------------------------------------------------------------------\n",
    "# Prover uma variavel com a pespectiva de localizações do script\n",
    "instalacao=\"/Projetos/bob\";                                          # Diretorio de Instalação apartir de HOME\n",
    "scriptPath_Home=\"${HOME}\";                                           # Diretorio HOME (~)\n",
    "scriptPath_Bob=\"${scriptPath_Home}${instalacao}\";                    # Diretrio de Instalação do Bob\n",
    "scriptPath=\"$( cd \"$( dirname \"${BASH_SOURCE[0]}\" )\" && pwd )\";      # Diretorio de instalação do script "
   ]
  },
  {
   "cell_type": "code",
   "execution_count": null,
   "metadata": {},
   "outputs": [],
   "source": []
  }
 ],
 "metadata": {
  "kernelspec": {
   "display_name": "Python 3",
   "language": "python",
   "name": "python3"
  },
  "language_info": {
   "codemirror_mode": {
    "name": "ipython",
    "version": 3
   },
   "file_extension": ".py",
   "mimetype": "text/x-python",
   "name": "python",
   "nbconvert_exporter": "python",
   "pygments_lexer": "ipython3",
   "version": "3.7.3"
  }
 },
 "nbformat": 4,
 "nbformat_minor": 2
}
